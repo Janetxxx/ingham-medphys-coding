{
 "cells": [
  {
   "cell_type": "markdown",
   "metadata": {},
   "source": [
    "# Ingham Medical Physics Coding Challenge - September 2020\n",
    "\n",
    "This Jupyter notebook describes the coding challenge for the Radiotherapy Computer Scientist position within the Ingham Institute Medical Physics Group hiring in September 2020. The goal of this challenge is to train a model to predict outcomes for cancer patients and present the results.\n",
    "\n",
    "## Data\n",
    "This task makes use of data obtained from The Cancer Imaging Archive: Head-Neck-Radiomics-HN1 (https://wiki.cancerimagingarchive.net/display/Public/Head-Neck-Radiomics-HN1) which is available under the Attribution-NonCommercial 3.0 Unported licence. This dataset includes clinical data and computed tomography (CT) from 137 head and neck squamous cell carcinoma (HNSCC) patients treated with radiotherapy. Structures within the CT images have also been manually delineated by an experienced radiation oncologist.\n",
    "\n",
    "Two CSV files provided alongside this notebook in the **data** directory:\n",
    "\n",
    "#### HN_ClinicalData.csv\n",
    "This sheet contains the clinical data of the patients included within the Head-Neck-Radiomics-HN1 dataset. It provides information such as the patient's age, stage of disease and various outcomes. Additionally, these patients have also been randomly split into a **train** and **test** set (see the dataset column).\n",
    "\n",
    "#### HN_Radiomics.csv\n",
    "Radiomic features have been generated using the patient's image data available in the Head-Neck-Radiomics-HN1 dataset. The **pyradiomics** library was used to extract first-order and shape features from the patients CT scan. Features are computed per structure (region of interest).\n",
    "\n",
    "A structure of particular significance for radiotherapy is the Gross Tumour Volume (GTV). This describes the position and extent of the tissue identified as tumour (See https://www.ncbi.nlm.nih.gov/pmc/articles/PMC1434601/ for more information). Note that patients may have more than one GTV, therefore these are named using GTV-1, GTV-2,... GTV-*n* where *n* is the number of tumour volumes for that patient.\n",
    "\n",
    "## Task\n",
    "\n",
    "Using the data found in the two CSV files, train a model which can predict an outcome for a patient. A common outcome to predict would be the overall survival for the patient (can be found in the column *overall_survival_in_days* within the clinical data). Some different outcomes are also available within this clinical data such as the *recurrence_metastatic_free_survival_in_days*, *local_recurrence_in_days* and *distant_metastases_in_days*.\n",
    "\n",
    "Make use of the clinical data and radiomic features to attempt to predict these outcomes. Hint: The GTV will probably be the most useful structure to help you predict this since this describes the cancerous tissue. Since multiple GTV's are available for many patients, you will need think about a good way to combine these rows for those patients. There are also many radiomic features available, think about selecting a subset of these to train your model which you think might be useful to predict a particular outcome for a patient.\n",
    "\n",
    "Train the model using the patients in the **train** dataset (dataset column in the clinical data). Then test your model using the patients in the **test** dataset.\n",
    "\n",
    "Finally, generate one or more plots which show how well your model is performing to predict a certain outcome.\n",
    "\n",
    "## Note\n",
    "\n",
    "The aim of this challenge is not to build a model with excellent results, so don't worry if your model isn't performing all that well. This is a cutting-edge topic of active research and is not easy to solve. What we want to see is how you approach a problem like this, how you present your results and your overall coding style.\n",
    "\n",
    "## Submission\n",
    "\n",
    "In this Jupyter notebook some Python code is provided to get you started with the challenge. The libraries you'll need are defined in the accompanying *requirements.txt* file. To complete the challenge, you can extend this notebook with your code. If you prefer, you can provide your solution in a separate file (or files) as well.\n",
    "\n",
    "If you would prefer to complete this task in a different programming language, no problem! Feel free to use R, MATLAB or anything else you feel is appropriate.\n",
    "\n",
    "The suggested way to submit your result to this challenge is to fork this GitHub repository and commit your results to your fork. Once complete just send us a link (phillip.chlap@unsw.edu.au) to your forked repository. This will mean your submission is publicly visible. If you would prefer to keep your submission private, this is also no problem. You will just need to duplicate this repository \n",
    "(https://docs.github.com/en/github/creating-cloning-and-archiving-repositories/duplicating-a-repository), then add **@pchlap** as a user to your private repository so that we can see your results.\n",
    "\n",
    "**Due Date:** September 30th @ 11.59pm AEST.\n",
    "\n",
    "If you have any questions, post them as an issue on this GitHub repository or directly email phillip.chlap@unsw.edu.au.\n",
    "\n",
    "## Resources\n",
    "\n",
    " - **pyradiomics** features: https://pyradiomics.readthedocs.io/en/latest/features.html\n",
    " - **pandas**: https://pandas.pydata.org/docs/\n",
    " - **scikit-learn**: https://scikit-learn.org/stable/user_guide.html\n",
    " - **seaborn**: https://seaborn.pydata.org/index.html\n",
    " \n",
    "### Good luck!"
   ]
  },
  {
   "cell_type": "code",
   "execution_count": null,
   "metadata": {},
   "outputs": [],
   "source": [
    "from pathlib import Path\n",
    "\n",
    "# Define paths to our data\n",
    "data_path = Path(\"data\")\n",
    "radiomics_path = data_path.joinpath(\"HN_Radiomics.csv\")\n",
    "clinical_data_path = data_path.joinpath(\"HN_ClinicalData.csv\")"
   ]
  },
  {
   "cell_type": "code",
   "execution_count": null,
   "metadata": {},
   "outputs": [],
   "source": [
    "import pandas as pd\n",
    "\n",
    "# Load the data\n",
    "df_clinical_data = pd.read_csv(clinical_data_path)\n",
    "df_radiomics = pd.read_csv(radiomics_path)"
   ]
  },
  {
   "cell_type": "markdown",
   "metadata": {},
   "source": [
    "### Extract and combine specific features\n",
    "\n",
    "This cell demonstrates how you might extract radiomic features (VoxelVolume and SurfaceArea) for all GTVs. Since there can be multiple GTVs per patient, these are combined by summing the values for each patient here.\n",
    "\n",
    "You'll probably want to extend this to extract more features. Think about how you would combine other features, in other cases computing the mean value might be more appropriate or perhaps you don't want to combine them at all?\n",
    "\n",
    "Also, take a look at what else is available in the clinical data, perhaps you'd like to use some of these features as well (patient age or cancer stage)."
   ]
  },
  {
   "cell_type": "code",
   "execution_count": null,
   "metadata": {},
   "outputs": [],
   "source": [
    "df_gtv_radiomics = df_radiomics[df_radiomics[\"Structure\"].str.startswith(\"GTV\")]\n",
    "df_gtv_radiomics = df_gtv_radiomics.groupby(\"id\")[[\"VoxelVolume\", \"SurfaceArea\"]].sum()\n",
    "\n",
    "\n",
    "# TODO: Extract more/different features\n",
    "\n",
    "\n",
    "\n",
    "\n",
    "\n"
   ]
  },
  {
   "cell_type": "markdown",
   "metadata": {},
   "source": [
    "### Merge feature(s) with clinical data\n",
    "\n",
    "This cell combines the feature with the clinical data in a DataFrame."
   ]
  },
  {
   "cell_type": "code",
   "execution_count": null,
   "metadata": {},
   "outputs": [],
   "source": [
    "df = df_clinical_data.merge(df_gtv_radiomics, on=\"id\")"
   ]
  },
  {
   "cell_type": "markdown",
   "metadata": {},
   "source": [
    "### Plot our data\n",
    "\n",
    "Here we plot the features we just extracted against the patient outcome (overall survival in days)."
   ]
  },
  {
   "cell_type": "code",
   "execution_count": null,
   "metadata": {},
   "outputs": [],
   "source": [
    "import seaborn as sns\n",
    "\n",
    "pair_grid = sns.PairGrid(df, y_vars=[\"overall_survival_in_days\"], x_vars=[\"VoxelVolume\", \"SurfaceArea\"], height=6, hue=\"dataset\")\n",
    "ax = pair_grid.map(sns.scatterplot)\n",
    "ax = pair_grid.add_legend()"
   ]
  },
  {
   "cell_type": "markdown",
   "metadata": {},
   "source": [
    "### Fit your model\n",
    "\n",
    "Using the data you have prepared above, fit a model to see if you can predict the outcome of the patients. If you're not sure where to start, try using a linear regression...\n",
    "\n",
    "Regression not working well? Try turning this into a classification problem and see if you can instead predict a \"good\" or a \"bad\" outcome."
   ]
  },
  {
   "cell_type": "code",
   "execution_count": null,
   "metadata": {},
   "outputs": [],
   "source": [
    "from sklearn.linear_model import LinearRegression\n",
    "\n",
    "X_train = df[df[\"dataset\"]==\"train\"][[\"VoxelVolume\", \"SurfaceArea\"]]\n",
    "X_test = df[df[\"dataset\"]==\"test\"][[\"VoxelVolume\", \"SurfaceArea\"]]\n",
    "\n",
    "y_train = df[df[\"dataset\"]==\"train\"][\"overall_survival_in_days\"]\n",
    "y_test = df[df[\"dataset\"]==\"test\"][\"overall_survival_in_days\"]\n",
    "\n",
    "\n",
    "# TODO: Fit model...\n",
    "\n",
    "\n",
    "\n",
    "\n",
    "\n",
    "\n",
    "\n"
   ]
  },
  {
   "cell_type": "markdown",
   "metadata": {},
   "source": [
    "### Plot Results\n",
    "\n",
    "Visualize the performance of your model with some plots. Try to be creative and think about some unique ways to allow others to explore your results."
   ]
  },
  {
   "cell_type": "code",
   "execution_count": null,
   "metadata": {},
   "outputs": [],
   "source": [
    "# TODO: Plot results...\n",
    "\n",
    "\n",
    "\n",
    "\n"
   ]
  },
  {
   "cell_type": "code",
   "execution_count": null,
   "metadata": {},
   "outputs": [],
   "source": []
  }
 ],
 "metadata": {
  "kernelspec": {
   "display_name": "Python 3",
   "language": "python",
   "name": "python3"
  },
  "language_info": {
   "codemirror_mode": {
    "name": "ipython",
    "version": 3
   },
   "file_extension": ".py",
   "mimetype": "text/x-python",
   "name": "python",
   "nbconvert_exporter": "python",
   "pygments_lexer": "ipython3",
   "version": "3.7.6"
  }
 },
 "nbformat": 4,
 "nbformat_minor": 4
}
